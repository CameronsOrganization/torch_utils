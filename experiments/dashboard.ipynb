{
 "cells": [
  {
   "cell_type": "code",
   "execution_count": 1,
   "metadata": {},
   "outputs": [],
   "source": [
    "import experiment_utils as eu"
   ]
  },
  {
   "cell_type": "code",
   "execution_count": 2,
   "metadata": {},
   "outputs": [
    {
     "data": {
      "text/html": [
       "<style type=\"text/css\">\n",
       "#T_a9194 th.col_heading.level0 {\n",
       "  text-align: left;\n",
       "}\n",
       "#T_a9194 th.col_heading.level1 {\n",
       "  text-align: left;\n",
       "}\n",
       "#T_a9194 td:nth-child(1) {\n",
       "  text-align: left;\n",
       "}\n",
       "#T_a9194 td:nth-child(2) {\n",
       "  text-align: left;\n",
       "}\n",
       "#T_a9194 td:nth-child(3) {\n",
       "  text-align: left;\n",
       "}\n",
       "#T_a9194 td:nth-child(5) {\n",
       "  text-align: left;\n",
       "}\n",
       "#T_a9194 td:nth-child(6) {\n",
       "  text-align: left;\n",
       "}\n",
       "</style>\n",
       "<table id=\"T_a9194\">\n",
       "  <thead>\n",
       "    <tr>\n",
       "      <th class=\"blank level0\" >&nbsp;</th>\n",
       "      <th id=\"T_a9194_level0_col0\" class=\"col_heading level0 col0\" colspan=\"2\">meta</th>\n",
       "      <th id=\"T_a9194_level0_col2\" class=\"col_heading level0 col2\" colspan=\"5\">params</th>\n",
       "      <th id=\"T_a9194_level0_col7\" class=\"col_heading level0 col7\" colspan=\"3\">metrics</th>\n",
       "    </tr>\n",
       "    <tr>\n",
       "      <th class=\"blank level1\" >&nbsp;</th>\n",
       "      <th id=\"T_a9194_level1_col0\" class=\"col_heading level1 col0\" >experiment_id</th>\n",
       "      <th id=\"T_a9194_level1_col1\" class=\"col_heading level1 col1\" >experiment_name</th>\n",
       "      <th id=\"T_a9194_level1_col2\" class=\"col_heading level1 col2\" >device</th>\n",
       "      <th id=\"T_a9194_level1_col3\" class=\"col_heading level1 col3\" >learning_rate</th>\n",
       "      <th id=\"T_a9194_level1_col4\" class=\"col_heading level1 col4\" >model</th>\n",
       "      <th id=\"T_a9194_level1_col5\" class=\"col_heading level1 col5\" >optimizer</th>\n",
       "      <th id=\"T_a9194_level1_col6\" class=\"col_heading level1 col6\" >steps</th>\n",
       "      <th id=\"T_a9194_level1_col7\" class=\"col_heading level1 col7\" >train_loss</th>\n",
       "      <th id=\"T_a9194_level1_col8\" class=\"col_heading level1 col8\" >val_accuracy</th>\n",
       "      <th id=\"T_a9194_level1_col9\" class=\"col_heading level1 col9\" >val_loss</th>\n",
       "    </tr>\n",
       "  </thead>\n",
       "  <tbody>\n",
       "    <tr>\n",
       "      <th id=\"T_a9194_level0_row0\" class=\"row_heading level0 row0\" >../.logs/250316_034342_arrest_nvidia</th>\n",
       "      <td id=\"T_a9194_row0_col0\" class=\"data row0 col0\" >250316_034342_arrest_nvidia</td>\n",
       "      <td id=\"T_a9194_row0_col1\" class=\"data row0 col1\" >None</td>\n",
       "      <td id=\"T_a9194_row0_col2\" class=\"data row0 col2\" >cuda</td>\n",
       "      <td id=\"T_a9194_row0_col3\" class=\"data row0 col3\" >0.001000</td>\n",
       "      <td id=\"T_a9194_row0_col4\" class=\"data row0 col4\" >Model</td>\n",
       "      <td id=\"T_a9194_row0_col5\" class=\"data row0 col5\" >AdamW</td>\n",
       "      <td id=\"T_a9194_row0_col6\" class=\"data row0 col6\" >1000</td>\n",
       "      <td id=\"T_a9194_row0_col7\" class=\"data row0 col7\" >0.187389</td>\n",
       "      <td id=\"T_a9194_row0_col8\" class=\"data row0 col8\" >0.000000</td>\n",
       "      <td id=\"T_a9194_row0_col9\" class=\"data row0 col9\" >0.201278</td>\n",
       "    </tr>\n",
       "  </tbody>\n",
       "</table>\n"
      ],
      "text/plain": [
       "<pandas.io.formats.style.Styler at 0x70f078126300>"
      ]
     },
     "execution_count": 2,
     "metadata": {},
     "output_type": "execute_result"
    }
   ],
   "source": [
    "dash = eu.Dashboard(\"../.logs\")\n",
    "dash.update()"
   ]
  }
 ],
 "metadata": {
  "kernelspec": {
   "display_name": ".venv",
   "language": "python",
   "name": "python3"
  },
  "language_info": {
   "codemirror_mode": {
    "name": "ipython",
    "version": 3
   },
   "file_extension": ".py",
   "mimetype": "text/x-python",
   "name": "python",
   "nbconvert_exporter": "python",
   "pygments_lexer": "ipython3",
   "version": "3.12.3"
  }
 },
 "nbformat": 4,
 "nbformat_minor": 2
}
